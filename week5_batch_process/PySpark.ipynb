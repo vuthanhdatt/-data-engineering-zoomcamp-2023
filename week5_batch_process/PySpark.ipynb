{
 "cells": [
  {
   "cell_type": "code",
   "execution_count": 1,
   "id": "5bd52f99",
   "metadata": {},
   "outputs": [],
   "source": [
    "import pyspark\n",
    "from pyspark.sql import SparkSession"
   ]
  },
  {
   "cell_type": "code",
   "execution_count": 2,
   "id": "2a587794",
   "metadata": {},
   "outputs": [
    {
     "name": "stderr",
     "output_type": "stream",
     "text": [
      "Setting default log level to \"WARN\".\n",
      "To adjust logging level use sc.setLogLevel(newLevel). For SparkR, use setLogLevel(newLevel).\n"
     ]
    },
    {
     "name": "stdout",
     "output_type": "stream",
     "text": [
      "23/02/03 05:46:10 WARN NativeCodeLoader: Unable to load native-hadoop library for your platform... using builtin-java classes where applicable\n"
     ]
    }
   ],
   "source": [
    "spark = SparkSession.builder \\\n",
    "    .master(\"local[3]\") \\\n",
    "    .appName('test') \\\n",
    "    .getOrCreate()"
   ]
  },
  {
   "cell_type": "code",
   "execution_count": 10,
   "id": "cee5267d",
   "metadata": {},
   "outputs": [],
   "source": [
    "sc = spark.sparkContext"
   ]
  },
  {
   "cell_type": "code",
   "execution_count": 12,
   "id": "bb0f87ae",
   "metadata": {},
   "outputs": [
    {
     "data": {
      "text/plain": [
       "3"
      ]
     },
     "execution_count": 12,
     "metadata": {},
     "output_type": "execute_result"
    }
   ],
   "source": [
    "sc.defaultParallelism "
   ]
  },
  {
   "cell_type": "code",
   "execution_count": 3,
   "id": "4a7a3f71",
   "metadata": {},
   "outputs": [
    {
     "name": "stderr",
     "output_type": "stream",
     "text": [
      "                                                                                \r"
     ]
    }
   ],
   "source": [
    "df = spark.read \\\n",
    "    .option(\"header\", \"true\") \\\n",
    "    .parquet('fhvhv_tripdata_2021-01.parquet')"
   ]
  },
  {
   "cell_type": "code",
   "execution_count": 4,
   "id": "278a328e",
   "metadata": {},
   "outputs": [
    {
     "data": {
      "text/plain": [
       "3"
      ]
     },
     "execution_count": 4,
     "metadata": {},
     "output_type": "execute_result"
    }
   ],
   "source": [
    "df.rdd.getNumPartitions()"
   ]
  },
  {
   "cell_type": "code",
   "execution_count": 24,
   "id": "b4c856e6",
   "metadata": {},
   "outputs": [
    {
     "data": {
      "text/plain": [
       "StructType([StructField('hvfhs_license_num', StringType(), True), StructField('dispatching_base_num', StringType(), True), StructField('originating_base_num', StringType(), True), StructField('request_datetime', TimestampType(), True), StructField('on_scene_datetime', TimestampType(), True), StructField('pickup_datetime', TimestampType(), True), StructField('dropoff_datetime', TimestampType(), True), StructField('PULocationID', LongType(), True), StructField('DOLocationID', LongType(), True), StructField('trip_miles', DoubleType(), True), StructField('trip_time', LongType(), True), StructField('base_passenger_fare', DoubleType(), True), StructField('tolls', DoubleType(), True), StructField('bcf', DoubleType(), True), StructField('sales_tax', DoubleType(), True), StructField('congestion_surcharge', DoubleType(), True), StructField('airport_fee', DoubleType(), True), StructField('tips', DoubleType(), True), StructField('driver_pay', DoubleType(), True), StructField('shared_request_flag', StringType(), True), StructField('shared_match_flag', StringType(), True), StructField('access_a_ride_flag', StringType(), True), StructField('wav_request_flag', StringType(), True), StructField('wav_match_flag', StringType(), True)])"
      ]
     },
     "execution_count": 24,
     "metadata": {},
     "output_type": "execute_result"
    }
   ],
   "source": [
    "df.schema"
   ]
  },
  {
   "cell_type": "code",
   "execution_count": 25,
   "id": "7fb58115",
   "metadata": {},
   "outputs": [],
   "source": [
    "import pandas as pd\n"
   ]
  },
  {
   "cell_type": "code",
   "execution_count": 41,
   "id": "a4c5b913",
   "metadata": {},
   "outputs": [],
   "source": [
    "df_pandas = pd.read_parquet('fhvhv_tripdata_2021-01.parquet')"
   ]
  },
  {
   "cell_type": "code",
   "execution_count": 37,
   "id": "5695ccc0",
   "metadata": {},
   "outputs": [
    {
     "data": {
      "text/html": [
       "<div>\n",
       "<style scoped>\n",
       "    .dataframe tbody tr th:only-of-type {\n",
       "        vertical-align: middle;\n",
       "    }\n",
       "\n",
       "    .dataframe tbody tr th {\n",
       "        vertical-align: top;\n",
       "    }\n",
       "\n",
       "    .dataframe thead th {\n",
       "        text-align: right;\n",
       "    }\n",
       "</style>\n",
       "<table border=\"1\" class=\"dataframe\">\n",
       "  <thead>\n",
       "    <tr style=\"text-align: right;\">\n",
       "      <th></th>\n",
       "      <th>hvfhs_license_num</th>\n",
       "      <th>dispatching_base_num</th>\n",
       "      <th>originating_base_num</th>\n",
       "      <th>request_datetime</th>\n",
       "      <th>on_scene_datetime</th>\n",
       "      <th>pickup_datetime</th>\n",
       "      <th>dropoff_datetime</th>\n",
       "      <th>PULocationID</th>\n",
       "      <th>DOLocationID</th>\n",
       "      <th>trip_miles</th>\n",
       "      <th>...</th>\n",
       "      <th>sales_tax</th>\n",
       "      <th>congestion_surcharge</th>\n",
       "      <th>airport_fee</th>\n",
       "      <th>tips</th>\n",
       "      <th>driver_pay</th>\n",
       "      <th>shared_request_flag</th>\n",
       "      <th>shared_match_flag</th>\n",
       "      <th>access_a_ride_flag</th>\n",
       "      <th>wav_request_flag</th>\n",
       "      <th>wav_match_flag</th>\n",
       "    </tr>\n",
       "  </thead>\n",
       "  <tbody>\n",
       "    <tr>\n",
       "      <th>0</th>\n",
       "      <td>HV0003</td>\n",
       "      <td>B02682</td>\n",
       "      <td>B02682</td>\n",
       "      <td>2021-01-01 00:28:09</td>\n",
       "      <td>2021-01-01 00:31:42</td>\n",
       "      <td>2021-01-01 00:33:44</td>\n",
       "      <td>2021-01-01 00:49:07</td>\n",
       "      <td>230</td>\n",
       "      <td>166</td>\n",
       "      <td>5.26</td>\n",
       "      <td>...</td>\n",
       "      <td>1.98</td>\n",
       "      <td>2.75</td>\n",
       "      <td>NaN</td>\n",
       "      <td>0.00</td>\n",
       "      <td>14.99</td>\n",
       "      <td>N</td>\n",
       "      <td>N</td>\n",
       "      <td></td>\n",
       "      <td>N</td>\n",
       "      <td>N</td>\n",
       "    </tr>\n",
       "    <tr>\n",
       "      <th>1</th>\n",
       "      <td>HV0003</td>\n",
       "      <td>B02682</td>\n",
       "      <td>B02682</td>\n",
       "      <td>2021-01-01 00:45:56</td>\n",
       "      <td>2021-01-01 00:55:19</td>\n",
       "      <td>2021-01-01 00:55:19</td>\n",
       "      <td>2021-01-01 01:18:21</td>\n",
       "      <td>152</td>\n",
       "      <td>167</td>\n",
       "      <td>3.65</td>\n",
       "      <td>...</td>\n",
       "      <td>1.63</td>\n",
       "      <td>0.00</td>\n",
       "      <td>NaN</td>\n",
       "      <td>0.00</td>\n",
       "      <td>17.06</td>\n",
       "      <td>N</td>\n",
       "      <td>N</td>\n",
       "      <td></td>\n",
       "      <td>N</td>\n",
       "      <td>N</td>\n",
       "    </tr>\n",
       "    <tr>\n",
       "      <th>2</th>\n",
       "      <td>HV0003</td>\n",
       "      <td>B02764</td>\n",
       "      <td>B02764</td>\n",
       "      <td>2021-01-01 00:21:15</td>\n",
       "      <td>2021-01-01 00:22:41</td>\n",
       "      <td>2021-01-01 00:23:56</td>\n",
       "      <td>2021-01-01 00:38:05</td>\n",
       "      <td>233</td>\n",
       "      <td>142</td>\n",
       "      <td>3.51</td>\n",
       "      <td>...</td>\n",
       "      <td>1.25</td>\n",
       "      <td>2.75</td>\n",
       "      <td>NaN</td>\n",
       "      <td>0.94</td>\n",
       "      <td>12.98</td>\n",
       "      <td>N</td>\n",
       "      <td>N</td>\n",
       "      <td></td>\n",
       "      <td>N</td>\n",
       "      <td>N</td>\n",
       "    </tr>\n",
       "    <tr>\n",
       "      <th>3</th>\n",
       "      <td>HV0003</td>\n",
       "      <td>B02764</td>\n",
       "      <td>B02764</td>\n",
       "      <td>2021-01-01 00:39:12</td>\n",
       "      <td>2021-01-01 00:42:37</td>\n",
       "      <td>2021-01-01 00:42:51</td>\n",
       "      <td>2021-01-01 00:45:50</td>\n",
       "      <td>142</td>\n",
       "      <td>143</td>\n",
       "      <td>0.74</td>\n",
       "      <td>...</td>\n",
       "      <td>0.70</td>\n",
       "      <td>2.75</td>\n",
       "      <td>NaN</td>\n",
       "      <td>0.00</td>\n",
       "      <td>7.41</td>\n",
       "      <td>N</td>\n",
       "      <td>N</td>\n",
       "      <td></td>\n",
       "      <td>N</td>\n",
       "      <td>N</td>\n",
       "    </tr>\n",
       "    <tr>\n",
       "      <th>4</th>\n",
       "      <td>HV0003</td>\n",
       "      <td>B02764</td>\n",
       "      <td>B02764</td>\n",
       "      <td>2021-01-01 00:46:11</td>\n",
       "      <td>2021-01-01 00:47:17</td>\n",
       "      <td>2021-01-01 00:48:14</td>\n",
       "      <td>2021-01-01 01:08:42</td>\n",
       "      <td>143</td>\n",
       "      <td>78</td>\n",
       "      <td>9.20</td>\n",
       "      <td>...</td>\n",
       "      <td>2.41</td>\n",
       "      <td>2.75</td>\n",
       "      <td>NaN</td>\n",
       "      <td>0.00</td>\n",
       "      <td>22.44</td>\n",
       "      <td>N</td>\n",
       "      <td>N</td>\n",
       "      <td></td>\n",
       "      <td>N</td>\n",
       "      <td>N</td>\n",
       "    </tr>\n",
       "    <tr>\n",
       "      <th>...</th>\n",
       "      <td>...</td>\n",
       "      <td>...</td>\n",
       "      <td>...</td>\n",
       "      <td>...</td>\n",
       "      <td>...</td>\n",
       "      <td>...</td>\n",
       "      <td>...</td>\n",
       "      <td>...</td>\n",
       "      <td>...</td>\n",
       "      <td>...</td>\n",
       "      <td>...</td>\n",
       "      <td>...</td>\n",
       "      <td>...</td>\n",
       "      <td>...</td>\n",
       "      <td>...</td>\n",
       "      <td>...</td>\n",
       "      <td>...</td>\n",
       "      <td>...</td>\n",
       "      <td>...</td>\n",
       "      <td>...</td>\n",
       "      <td>...</td>\n",
       "    </tr>\n",
       "    <tr>\n",
       "      <th>11908463</th>\n",
       "      <td>HV0003</td>\n",
       "      <td>B02765</td>\n",
       "      <td>B02765</td>\n",
       "      <td>2021-01-31 23:13:51</td>\n",
       "      <td>2021-01-31 23:25:03</td>\n",
       "      <td>2021-01-31 23:25:40</td>\n",
       "      <td>2021-01-31 23:40:10</td>\n",
       "      <td>89</td>\n",
       "      <td>71</td>\n",
       "      <td>2.29</td>\n",
       "      <td>...</td>\n",
       "      <td>1.49</td>\n",
       "      <td>0.00</td>\n",
       "      <td>NaN</td>\n",
       "      <td>0.00</td>\n",
       "      <td>12.06</td>\n",
       "      <td>N</td>\n",
       "      <td>N</td>\n",
       "      <td></td>\n",
       "      <td>N</td>\n",
       "      <td>N</td>\n",
       "    </tr>\n",
       "    <tr>\n",
       "      <th>11908464</th>\n",
       "      <td>HV0003</td>\n",
       "      <td>B02872</td>\n",
       "      <td>B02872</td>\n",
       "      <td>2021-01-31 23:23:56</td>\n",
       "      <td>2021-01-31 23:29:03</td>\n",
       "      <td>2021-01-31 23:29:31</td>\n",
       "      <td>2021-01-31 23:47:44</td>\n",
       "      <td>182</td>\n",
       "      <td>167</td>\n",
       "      <td>4.10</td>\n",
       "      <td>...</td>\n",
       "      <td>1.53</td>\n",
       "      <td>0.00</td>\n",
       "      <td>NaN</td>\n",
       "      <td>2.00</td>\n",
       "      <td>13.66</td>\n",
       "      <td>N</td>\n",
       "      <td>N</td>\n",
       "      <td></td>\n",
       "      <td>N</td>\n",
       "      <td>N</td>\n",
       "    </tr>\n",
       "    <tr>\n",
       "      <th>11908465</th>\n",
       "      <td>HV0003</td>\n",
       "      <td>B02872</td>\n",
       "      <td>B02872</td>\n",
       "      <td>2021-01-31 23:42:53</td>\n",
       "      <td>2021-01-31 23:49:23</td>\n",
       "      <td>2021-01-31 23:49:32</td>\n",
       "      <td>2021-02-01 00:04:36</td>\n",
       "      <td>167</td>\n",
       "      <td>169</td>\n",
       "      <td>2.40</td>\n",
       "      <td>...</td>\n",
       "      <td>1.73</td>\n",
       "      <td>0.00</td>\n",
       "      <td>NaN</td>\n",
       "      <td>0.00</td>\n",
       "      <td>15.53</td>\n",
       "      <td>N</td>\n",
       "      <td>N</td>\n",
       "      <td></td>\n",
       "      <td>N</td>\n",
       "      <td>N</td>\n",
       "    </tr>\n",
       "    <tr>\n",
       "      <th>11908466</th>\n",
       "      <td>HV0003</td>\n",
       "      <td>B02764</td>\n",
       "      <td>B02764</td>\n",
       "      <td>2021-01-31 23:04:32</td>\n",
       "      <td>2021-01-31 23:09:13</td>\n",
       "      <td>2021-01-31 23:09:29</td>\n",
       "      <td>2021-01-31 23:27:46</td>\n",
       "      <td>188</td>\n",
       "      <td>37</td>\n",
       "      <td>3.60</td>\n",
       "      <td>...</td>\n",
       "      <td>1.76</td>\n",
       "      <td>0.00</td>\n",
       "      <td>NaN</td>\n",
       "      <td>0.00</td>\n",
       "      <td>17.36</td>\n",
       "      <td>N</td>\n",
       "      <td>N</td>\n",
       "      <td></td>\n",
       "      <td>N</td>\n",
       "      <td>N</td>\n",
       "    </tr>\n",
       "    <tr>\n",
       "      <th>11908467</th>\n",
       "      <td>HV0003</td>\n",
       "      <td>B02764</td>\n",
       "      <td>B02764</td>\n",
       "      <td>2021-01-31 23:22:20</td>\n",
       "      <td>2021-01-31 23:28:33</td>\n",
       "      <td>2021-01-31 23:28:33</td>\n",
       "      <td>2021-01-31 23:56:36</td>\n",
       "      <td>37</td>\n",
       "      <td>4</td>\n",
       "      <td>5.76</td>\n",
       "      <td>...</td>\n",
       "      <td>3.14</td>\n",
       "      <td>2.75</td>\n",
       "      <td>NaN</td>\n",
       "      <td>0.00</td>\n",
       "      <td>21.69</td>\n",
       "      <td>N</td>\n",
       "      <td>N</td>\n",
       "      <td></td>\n",
       "      <td>N</td>\n",
       "      <td>N</td>\n",
       "    </tr>\n",
       "  </tbody>\n",
       "</table>\n",
       "<p>11908468 rows × 24 columns</p>\n",
       "</div>"
      ],
      "text/plain": [
       "         hvfhs_license_num dispatching_base_num originating_base_num  \\\n",
       "0                   HV0003               B02682               B02682   \n",
       "1                   HV0003               B02682               B02682   \n",
       "2                   HV0003               B02764               B02764   \n",
       "3                   HV0003               B02764               B02764   \n",
       "4                   HV0003               B02764               B02764   \n",
       "...                    ...                  ...                  ...   \n",
       "11908463            HV0003               B02765               B02765   \n",
       "11908464            HV0003               B02872               B02872   \n",
       "11908465            HV0003               B02872               B02872   \n",
       "11908466            HV0003               B02764               B02764   \n",
       "11908467            HV0003               B02764               B02764   \n",
       "\n",
       "            request_datetime   on_scene_datetime     pickup_datetime  \\\n",
       "0        2021-01-01 00:28:09 2021-01-01 00:31:42 2021-01-01 00:33:44   \n",
       "1        2021-01-01 00:45:56 2021-01-01 00:55:19 2021-01-01 00:55:19   \n",
       "2        2021-01-01 00:21:15 2021-01-01 00:22:41 2021-01-01 00:23:56   \n",
       "3        2021-01-01 00:39:12 2021-01-01 00:42:37 2021-01-01 00:42:51   \n",
       "4        2021-01-01 00:46:11 2021-01-01 00:47:17 2021-01-01 00:48:14   \n",
       "...                      ...                 ...                 ...   \n",
       "11908463 2021-01-31 23:13:51 2021-01-31 23:25:03 2021-01-31 23:25:40   \n",
       "11908464 2021-01-31 23:23:56 2021-01-31 23:29:03 2021-01-31 23:29:31   \n",
       "11908465 2021-01-31 23:42:53 2021-01-31 23:49:23 2021-01-31 23:49:32   \n",
       "11908466 2021-01-31 23:04:32 2021-01-31 23:09:13 2021-01-31 23:09:29   \n",
       "11908467 2021-01-31 23:22:20 2021-01-31 23:28:33 2021-01-31 23:28:33   \n",
       "\n",
       "            dropoff_datetime  PULocationID  DOLocationID  trip_miles  ...  \\\n",
       "0        2021-01-01 00:49:07           230           166        5.26  ...   \n",
       "1        2021-01-01 01:18:21           152           167        3.65  ...   \n",
       "2        2021-01-01 00:38:05           233           142        3.51  ...   \n",
       "3        2021-01-01 00:45:50           142           143        0.74  ...   \n",
       "4        2021-01-01 01:08:42           143            78        9.20  ...   \n",
       "...                      ...           ...           ...         ...  ...   \n",
       "11908463 2021-01-31 23:40:10            89            71        2.29  ...   \n",
       "11908464 2021-01-31 23:47:44           182           167        4.10  ...   \n",
       "11908465 2021-02-01 00:04:36           167           169        2.40  ...   \n",
       "11908466 2021-01-31 23:27:46           188            37        3.60  ...   \n",
       "11908467 2021-01-31 23:56:36            37             4        5.76  ...   \n",
       "\n",
       "          sales_tax  congestion_surcharge  airport_fee  tips  driver_pay  \\\n",
       "0              1.98                  2.75          NaN  0.00       14.99   \n",
       "1              1.63                  0.00          NaN  0.00       17.06   \n",
       "2              1.25                  2.75          NaN  0.94       12.98   \n",
       "3              0.70                  2.75          NaN  0.00        7.41   \n",
       "4              2.41                  2.75          NaN  0.00       22.44   \n",
       "...             ...                   ...          ...   ...         ...   \n",
       "11908463       1.49                  0.00          NaN  0.00       12.06   \n",
       "11908464       1.53                  0.00          NaN  2.00       13.66   \n",
       "11908465       1.73                  0.00          NaN  0.00       15.53   \n",
       "11908466       1.76                  0.00          NaN  0.00       17.36   \n",
       "11908467       3.14                  2.75          NaN  0.00       21.69   \n",
       "\n",
       "          shared_request_flag  shared_match_flag  access_a_ride_flag  \\\n",
       "0                           N                  N                       \n",
       "1                           N                  N                       \n",
       "2                           N                  N                       \n",
       "3                           N                  N                       \n",
       "4                           N                  N                       \n",
       "...                       ...                ...                 ...   \n",
       "11908463                    N                  N                       \n",
       "11908464                    N                  N                       \n",
       "11908465                    N                  N                       \n",
       "11908466                    N                  N                       \n",
       "11908467                    N                  N                       \n",
       "\n",
       "          wav_request_flag wav_match_flag  \n",
       "0                        N              N  \n",
       "1                        N              N  \n",
       "2                        N              N  \n",
       "3                        N              N  \n",
       "4                        N              N  \n",
       "...                    ...            ...  \n",
       "11908463                 N              N  \n",
       "11908464                 N              N  \n",
       "11908465                 N              N  \n",
       "11908466                 N              N  \n",
       "11908467                 N              N  \n",
       "\n",
       "[11908468 rows x 24 columns]"
      ]
     },
     "execution_count": 37,
     "metadata": {},
     "output_type": "execute_result"
    }
   ],
   "source": [
    "df_pandas"
   ]
  },
  {
   "cell_type": "code",
   "execution_count": 42,
   "id": "47ce6fe9",
   "metadata": {},
   "outputs": [
    {
     "data": {
      "text/plain": [
       "hvfhs_license_num               object\n",
       "dispatching_base_num            object\n",
       "originating_base_num            object\n",
       "request_datetime        datetime64[ns]\n",
       "on_scene_datetime       datetime64[ns]\n",
       "pickup_datetime         datetime64[ns]\n",
       "dropoff_datetime        datetime64[ns]\n",
       "PULocationID                     int64\n",
       "DOLocationID                     int64\n",
       "trip_miles                     float64\n",
       "trip_time                        int64\n",
       "base_passenger_fare            float64\n",
       "tolls                          float64\n",
       "bcf                            float64\n",
       "sales_tax                      float64\n",
       "congestion_surcharge           float64\n",
       "airport_fee                    float64\n",
       "tips                           float64\n",
       "driver_pay                     float64\n",
       "shared_request_flag             object\n",
       "shared_match_flag               object\n",
       "access_a_ride_flag              object\n",
       "wav_request_flag                object\n",
       "wav_match_flag                  object\n",
       "dtype: object"
      ]
     },
     "execution_count": 42,
     "metadata": {},
     "output_type": "execute_result"
    }
   ],
   "source": [
    "df_pandas.dtypes"
   ]
  },
  {
   "cell_type": "code",
   "execution_count": 38,
   "id": "ccfc640c",
   "metadata": {},
   "outputs": [
    {
     "data": {
      "text/plain": [
       "7103.403139"
      ]
     },
     "execution_count": 38,
     "metadata": {},
     "output_type": "execute_result"
    }
   ],
   "source": [
    "from sys import getsizeof\n",
    "getsizeof(df_pandas)/1000000"
   ]
  },
  {
   "cell_type": "code",
   "execution_count": 39,
   "id": "c95f48ad",
   "metadata": {},
   "outputs": [
    {
     "data": {
      "text/plain": [
       "0"
      ]
     },
     "execution_count": 39,
     "metadata": {},
     "output_type": "execute_result"
    }
   ],
   "source": [
    "### DELETE variable and use garbage collection to free memory in ram\n",
    "import gc\n",
    "del df_pandas\n",
    "gc.collect()\n"
   ]
  },
  {
   "cell_type": "code",
   "execution_count": 40,
   "id": "74a8ed9b",
   "metadata": {},
   "outputs": [
    {
     "ename": "NameError",
     "evalue": "name 'df_pandas' is not defined",
     "output_type": "error",
     "traceback": [
      "\u001b[0;31m---------------------------------------------------------------------------\u001b[0m",
      "\u001b[0;31mNameError\u001b[0m                                 Traceback (most recent call last)",
      "Cell \u001b[0;32mIn[40], line 1\u001b[0m\n\u001b[0;32m----> 1\u001b[0m \u001b[43mdf_pandas\u001b[49m\n",
      "\u001b[0;31mNameError\u001b[0m: name 'df_pandas' is not defined"
     ]
    }
   ],
   "source": [
    "df_pandas"
   ]
  },
  {
   "cell_type": "code",
   "execution_count": 7,
   "id": "f4c16389",
   "metadata": {},
   "outputs": [],
   "source": [
    "df = df.repartition(24)"
   ]
  },
  {
   "cell_type": "code",
   "execution_count": 8,
   "id": "52a2ffee",
   "metadata": {},
   "outputs": [
    {
     "name": "stderr",
     "output_type": "stream",
     "text": [
      "                                                                                \r"
     ]
    }
   ],
   "source": [
    "df.write.parquet('fhvhv/2021/01/')"
   ]
  },
  {
   "cell_type": "code",
   "execution_count": 9,
   "id": "3e99daa2",
   "metadata": {},
   "outputs": [],
   "source": [
    "df = spark.read.parquet('fhvhv/2021/01/')"
   ]
  },
  {
   "cell_type": "code",
   "execution_count": 11,
   "id": "92f18371",
   "metadata": {},
   "outputs": [
    {
     "name": "stdout",
     "output_type": "stream",
     "text": [
      "root\n",
      " |-- hvfhs_license_num: string (nullable = true)\n",
      " |-- dispatching_base_num: string (nullable = true)\n",
      " |-- originating_base_num: string (nullable = true)\n",
      " |-- request_datetime: timestamp (nullable = true)\n",
      " |-- on_scene_datetime: timestamp (nullable = true)\n",
      " |-- pickup_datetime: timestamp (nullable = true)\n",
      " |-- dropoff_datetime: timestamp (nullable = true)\n",
      " |-- PULocationID: long (nullable = true)\n",
      " |-- DOLocationID: long (nullable = true)\n",
      " |-- trip_miles: double (nullable = true)\n",
      " |-- trip_time: long (nullable = true)\n",
      " |-- base_passenger_fare: double (nullable = true)\n",
      " |-- tolls: double (nullable = true)\n",
      " |-- bcf: double (nullable = true)\n",
      " |-- sales_tax: double (nullable = true)\n",
      " |-- congestion_surcharge: double (nullable = true)\n",
      " |-- airport_fee: double (nullable = true)\n",
      " |-- tips: double (nullable = true)\n",
      " |-- driver_pay: double (nullable = true)\n",
      " |-- shared_request_flag: string (nullable = true)\n",
      " |-- shared_match_flag: string (nullable = true)\n",
      " |-- access_a_ride_flag: string (nullable = true)\n",
      " |-- wav_request_flag: string (nullable = true)\n",
      " |-- wav_match_flag: string (nullable = true)\n",
      "\n"
     ]
    }
   ],
   "source": [
    "df.printSchema()"
   ]
  },
  {
   "cell_type": "code",
   "execution_count": 14,
   "id": "f182e301",
   "metadata": {},
   "outputs": [
    {
     "data": {
      "text/plain": [
       "pyspark.sql.dataframe.DataFrame"
      ]
     },
     "execution_count": 14,
     "metadata": {},
     "output_type": "execute_result"
    }
   ],
   "source": [
    "type(df)"
   ]
  },
  {
   "cell_type": "code",
   "execution_count": 17,
   "id": "99bcb1ea",
   "metadata": {},
   "outputs": [
    {
     "data": {
      "text/plain": [
       "DataFrame[hvfhs_license_num: string, pickup_datetime: timestamp, PULocationID: bigint, DOLocationID: bigint]"
      ]
     },
     "execution_count": 17,
     "metadata": {},
     "output_type": "execute_result"
    }
   ],
   "source": [
    "df.select('hvfhs_license_num', 'pickup_datetime','PULocationID','DOLocationID')\\\n",
    ".filter(df.hvfhs_license_num == 'HV0003')"
   ]
  },
  {
   "cell_type": "code",
   "execution_count": 19,
   "id": "e4559764",
   "metadata": {},
   "outputs": [
    {
     "name": "stdout",
     "output_type": "stream",
     "text": [
      "+-----------------+-------------------+------------+------------+\n",
      "|hvfhs_license_num|    pickup_datetime|PULocationID|DOLocationID|\n",
      "+-----------------+-------------------+------------+------------+\n",
      "|           HV0003|2021-01-11 18:40:22|         262|         231|\n",
      "|           HV0003|2021-01-05 15:13:22|          61|         181|\n",
      "|           HV0003|2021-01-31 18:42:09|         232|           4|\n",
      "|           HV0003|2021-01-27 22:24:36|          68|          68|\n",
      "|           HV0003|2021-01-30 08:35:46|         256|         255|\n",
      "|           HV0003|2021-01-16 02:25:35|          89|          91|\n",
      "|           HV0003|2021-01-11 11:58:23|          97|          61|\n",
      "|           HV0003|2021-01-03 07:44:58|          26|         178|\n",
      "|           HV0003|2021-01-14 18:52:00|         181|         198|\n",
      "|           HV0003|2021-01-08 20:35:35|          76|          91|\n",
      "|           HV0003|2021-01-15 13:49:48|         246|          16|\n",
      "|           HV0003|2021-01-27 10:37:56|         135|          73|\n",
      "|           HV0003|2021-01-11 17:29:44|          68|         211|\n",
      "|           HV0003|2021-01-24 21:32:15|         249|         236|\n",
      "|           HV0003|2021-01-26 18:03:39|          79|           4|\n",
      "|           HV0003|2021-01-07 08:05:32|          22|          25|\n",
      "|           HV0003|2021-01-12 17:16:00|          69|         119|\n",
      "|           HV0003|2021-01-16 21:00:39|         239|         239|\n",
      "|           HV0003|2021-01-14 23:35:14|          61|          62|\n",
      "|           HV0003|2021-01-17 23:23:11|         241|          20|\n",
      "+-----------------+-------------------+------------+------------+\n",
      "only showing top 20 rows\n",
      "\n"
     ]
    }
   ],
   "source": [
    "df.select('hvfhs_license_num', 'pickup_datetime','PULocationID','DOLocationID')\\\n",
    ".filter(df.hvfhs_license_num == 'HV0003').show()"
   ]
  },
  {
   "cell_type": "code",
   "execution_count": 20,
   "id": "2577d07c",
   "metadata": {},
   "outputs": [
    {
     "data": {
      "text/plain": [
       "[Row(hvfhs_license_num='HV0003', pickup_datetime=datetime.datetime(2021, 1, 11, 18, 40, 22), PULocationID=262, DOLocationID=231),\n",
       " Row(hvfhs_license_num='HV0003', pickup_datetime=datetime.datetime(2021, 1, 5, 15, 13, 22), PULocationID=61, DOLocationID=181),\n",
       " Row(hvfhs_license_num='HV0003', pickup_datetime=datetime.datetime(2021, 1, 31, 18, 42, 9), PULocationID=232, DOLocationID=4),\n",
       " Row(hvfhs_license_num='HV0003', pickup_datetime=datetime.datetime(2021, 1, 27, 22, 24, 36), PULocationID=68, DOLocationID=68),\n",
       " Row(hvfhs_license_num='HV0003', pickup_datetime=datetime.datetime(2021, 1, 30, 8, 35, 46), PULocationID=256, DOLocationID=255)]"
      ]
     },
     "execution_count": 20,
     "metadata": {},
     "output_type": "execute_result"
    }
   ],
   "source": [
    "df.select('hvfhs_license_num', 'pickup_datetime','PULocationID','DOLocationID')\\\n",
    ".filter(df.hvfhs_license_num == 'HV0003').take(5)"
   ]
  },
  {
   "cell_type": "code",
   "execution_count": 21,
   "id": "35a394c7",
   "metadata": {},
   "outputs": [],
   "source": [
    "from pyspark.sql import functions as F"
   ]
  },
  {
   "cell_type": "code",
   "execution_count": 23,
   "id": "3d0a6052",
   "metadata": {},
   "outputs": [
    {
     "name": "stdout",
     "output_type": "stream",
     "text": [
      "+------------+-----------+\n",
      "|PULocationID|pickup_date|\n",
      "+------------+-----------+\n",
      "|         262| 2021-01-11|\n",
      "|          61| 2021-01-05|\n",
      "|         100| 2021-01-02|\n",
      "|         232| 2021-01-31|\n",
      "|         162| 2021-01-05|\n",
      "|          68| 2021-01-27|\n",
      "|         205| 2021-01-18|\n",
      "|         256| 2021-01-30|\n",
      "|          89| 2021-01-16|\n",
      "|         132| 2021-01-05|\n",
      "|          97| 2021-01-11|\n",
      "|          79| 2021-01-22|\n",
      "|          26| 2021-01-03|\n",
      "|         181| 2021-01-14|\n",
      "|          76| 2021-01-08|\n",
      "|         246| 2021-01-15|\n",
      "|         135| 2021-01-27|\n",
      "|          74| 2021-01-18|\n",
      "|          68| 2021-01-11|\n",
      "|         249| 2021-01-24|\n",
      "+------------+-----------+\n",
      "only showing top 20 rows\n",
      "\n"
     ]
    }
   ],
   "source": [
    "df \\\n",
    "    .withColumn('pickup_date', F.to_date(df.pickup_datetime)) \\\n",
    "    .withColumn('dropoff_date', F.to_date(df.dropoff_datetime)) \\\n",
    "    .select('PULocationID','pickup_date')\\\n",
    "    .show()"
   ]
  },
  {
   "cell_type": "code",
   "execution_count": 24,
   "id": "64f2f10c",
   "metadata": {},
   "outputs": [],
   "source": [
    "def crazy_stuff(base_num):\n",
    "    num = int(base_num[1:])\n",
    "    if num % 7 == 0:\n",
    "        return f's/{num:03x}'\n",
    "    elif num % 3 == 0:\n",
    "        return f'a/{num:03x}'\n",
    "    else:\n",
    "        return f'e/{num:03x}'"
   ]
  },
  {
   "cell_type": "code",
   "execution_count": 26,
   "id": "3d33eed1",
   "metadata": {},
   "outputs": [],
   "source": [
    "from pyspark.sql import types\n",
    "crazy_stuff_udf = F.udf(crazy_stuff, returnType=types.StringType())"
   ]
  },
  {
   "cell_type": "code",
   "execution_count": 27,
   "id": "0535a872",
   "metadata": {},
   "outputs": [
    {
     "name": "stderr",
     "output_type": "stream",
     "text": [
      "\r",
      "[Stage 17:>                                                         (0 + 1) / 1]\r"
     ]
    },
    {
     "name": "stdout",
     "output_type": "stream",
     "text": [
      "+-------+-----------+------------+------------+------------+\n",
      "|base_id|pickup_date|dropoff_date|PULocationID|DOLocationID|\n",
      "+-------+-----------+------------+------------+------------+\n",
      "|  e/acc| 2021-01-11|  2021-01-11|         262|         231|\n",
      "|  e/a39| 2021-01-05|  2021-01-05|          61|         181|\n",
      "|  e/9ce| 2021-01-02|  2021-01-02|         100|           1|\n",
      "|  e/b42| 2021-01-31|  2021-01-31|         232|           4|\n",
      "|  s/af0| 2021-01-05|  2021-01-05|         162|           1|\n",
      "|  a/b43| 2021-01-27|  2021-01-27|          68|          68|\n",
      "|  e/9ce| 2021-01-18|  2021-01-18|         205|         205|\n",
      "|  e/b35| 2021-01-30|  2021-01-30|         256|         255|\n",
      "|  e/b3b| 2021-01-16|  2021-01-16|          89|          91|\n",
      "|  e/9ce| 2021-01-05|  2021-01-05|         132|         102|\n",
      "|  e/acc| 2021-01-11|  2021-01-11|          97|          61|\n",
      "|  e/9ce| 2021-01-22|  2021-01-22|          79|          37|\n",
      "|  e/b32| 2021-01-03|  2021-01-03|          26|         178|\n",
      "|  a/b49| 2021-01-14|  2021-01-14|         181|         198|\n",
      "|  e/acc| 2021-01-08|  2021-01-08|          76|          91|\n",
      "|  e/b3c| 2021-01-15|  2021-01-15|         246|          16|\n",
      "|  s/b36| 2021-01-27|  2021-01-27|         135|          73|\n",
      "|  e/9ce| 2021-01-18|  2021-01-18|          74|         234|\n",
      "|  e/a39| 2021-01-11|  2021-01-11|          68|         211|\n",
      "|  e/b3f| 2021-01-24|  2021-01-24|         249|         236|\n",
      "+-------+-----------+------------+------------+------------+\n",
      "only showing top 20 rows\n",
      "\n"
     ]
    },
    {
     "name": "stderr",
     "output_type": "stream",
     "text": [
      "\r",
      "                                                                                \r"
     ]
    }
   ],
   "source": [
    "df \\\n",
    "    .withColumn('pickup_date', F.to_date(df.pickup_datetime)) \\\n",
    "    .withColumn('dropoff_date', F.to_date(df.dropoff_datetime)) \\\n",
    "    .withColumn('base_id', crazy_stuff_udf(df.dispatching_base_num)) \\\n",
    "    .select('base_id', 'pickup_date', 'dropoff_date', 'PULocationID', 'DOLocationID') \\\n",
    "    .show()"
   ]
  }
 ],
 "metadata": {
  "kernelspec": {
   "display_name": "Python 3 (ipykernel)",
   "language": "python",
   "name": "python3"
  },
  "language_info": {
   "codemirror_mode": {
    "name": "ipython",
    "version": 3
   },
   "file_extension": ".py",
   "mimetype": "text/x-python",
   "name": "python",
   "nbconvert_exporter": "python",
   "pygments_lexer": "ipython3",
   "version": "3.8.10"
  }
 },
 "nbformat": 4,
 "nbformat_minor": 5
}
